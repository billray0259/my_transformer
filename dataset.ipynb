{
 "cells": [
  {
   "cell_type": "code",
   "execution_count": 1,
   "metadata": {},
   "outputs": [],
   "source": [
    "from datasets import load_dataset\n",
    "from transformers import AutoTokenizer\n",
    "\n",
    "from torch.utils.data import DataLoader"
   ]
  },
  {
   "cell_type": "code",
   "execution_count": 7,
   "metadata": {},
   "outputs": [
    {
     "name": "stderr",
     "output_type": "stream",
     "text": [
      "Reusing dataset wikipedia (/home/bill/.cache/huggingface/datasets/wikipedia/20220301.en/2.0.0/aa542ed919df55cc5d3347f42dd4521d05ca68751f50dbc32bae2a7f1e167559)\n",
      "Reusing dataset wikipedia (/home/bill/.cache/huggingface/datasets/wikipedia/20220301.en/2.0.0/aa542ed919df55cc5d3347f42dd4521d05ca68751f50dbc32bae2a7f1e167559)\n",
      "Reusing dataset wikipedia (/home/bill/.cache/huggingface/datasets/wikipedia/20220301.en/2.0.0/aa542ed919df55cc5d3347f42dd4521d05ca68751f50dbc32bae2a7f1e167559)\n"
     ]
    },
    {
     "name": "stdout",
     "output_type": "stream",
     "text": [
      "Train size 516694\n",
      "Dev size 64586\n",
      "Test size 64587\n"
     ]
    }
   ],
   "source": [
    "train = load_dataset(\"wikipedia\", \"20220301.en\", split=\"train[:8%]\")\n",
    "dev = load_dataset(\"wikipedia\", \"20220301.en\", split=\"train[8%:9%]\")\n",
    "test = load_dataset(\"wikipedia\", \"20220301.en\", split=\"train[9%:10%]\")\n",
    "print(\"Train size\", len(train))\n",
    "print(\"Dev size\", len(dev))\n",
    "print(\"Test size\", len(test))"
   ]
  },
  {
   "cell_type": "code",
   "execution_count": 3,
   "metadata": {},
   "outputs": [],
   "source": [
    "tokenizer = AutoTokenizer.from_pretrained(\"bert-base-uncased\")"
   ]
  },
  {
   "cell_type": "code",
   "execution_count": 4,
   "metadata": {},
   "outputs": [],
   "source": [
    "encodings = tokenizer.batch_encode_plus(dev[\"text\"], padding=True, truncation=True, return_tensors=\"pt\")"
   ]
  },
  {
   "cell_type": "code",
   "execution_count": 5,
   "metadata": {},
   "outputs": [
    {
     "data": {
      "text/plain": [
       "dict_keys(['input_ids', 'token_type_ids', 'attention_mask'])"
      ]
     },
     "execution_count": 5,
     "metadata": {},
     "output_type": "execute_result"
    }
   ],
   "source": [
    "encodings.keys()"
   ]
  },
  {
   "cell_type": "code",
   "execution_count": 6,
   "metadata": {},
   "outputs": [],
   "source": [
    "# n_samples = len(dataset[\"train\"])\n",
    "# n_train = int(n_samples * 0.8)\n",
    "# n_dev = int(n_samples * 0.1)\n",
    "\n",
    "# dataset[\"train\"] = dataset[\"train\"][:n_train]\n",
    "# dataset[\"dev\"] = dataset[\"train\"][n_train:n_train+n_dev]\n",
    "# dataset[\"test\"] = dataset[\"train\"][n_train+n_dev:]\n",
    "\n"
   ]
  }
 ],
 "metadata": {
  "interpreter": {
   "hash": "b79a7f5a46152e71cff8647b5c3b8d14e4a3aaa5c5e0a4b675db2944c297bd15"
  },
  "kernelspec": {
   "display_name": "Python 3.10.4 ('env': venv)",
   "language": "python",
   "name": "python3"
  },
  "language_info": {
   "codemirror_mode": {
    "name": "ipython",
    "version": 3
   },
   "file_extension": ".py",
   "mimetype": "text/x-python",
   "name": "python",
   "nbconvert_exporter": "python",
   "pygments_lexer": "ipython3",
   "version": "3.10.4"
  },
  "orig_nbformat": 4
 },
 "nbformat": 4,
 "nbformat_minor": 2
}
