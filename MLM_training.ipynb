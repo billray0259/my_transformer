{
 "cells": [
  {
   "cell_type": "code",
   "execution_count": 1,
   "metadata": {},
   "outputs": [],
   "source": [
    "from my_transformer import MyBERT\n",
    "\n",
    "from datasets import load_dataset\n",
    "from transformers import AutoTokenizer\n",
    "\n",
    "from torch.utils.data import DataLoader, Dataset\n",
    "\n",
    "from tqdm.notebook import tqdm"
   ]
  },
  {
   "cell_type": "code",
   "execution_count": 2,
   "metadata": {},
   "outputs": [
    {
     "name": "stderr",
     "output_type": "stream",
     "text": [
      "Reusing dataset wikipedia (/home/bill/.cache/huggingface/datasets/wikipedia/20220301.en/2.0.0/aa542ed919df55cc5d3347f42dd4521d05ca68751f50dbc32bae2a7f1e167559)\n"
     ]
    }
   ],
   "source": [
    "train = load_dataset(\"wikipedia\", \"20220301.en\", split=\"train[:1%]\")\n",
    "# dev = load_dataset(\"wikipedia\", \"20220301.en\", split=\"train[80%:90%]\")\n",
    "# test = load_dataset(\"wikipedia\", \"20220301.en\", split=\"train[90%:100%]\")\n",
    "# print(\"Train size\", len(train))\n",
    "# print(\"Dev size\", len(dev))\n",
    "# print(\"Test size\", len(test))"
   ]
  },
  {
   "cell_type": "code",
   "execution_count": 3,
   "metadata": {},
   "outputs": [
    {
     "data": {
      "text/plain": [
       "64587"
      ]
     },
     "execution_count": 3,
     "metadata": {},
     "output_type": "execute_result"
    }
   ],
   "source": [
    "type(train)\n",
    "len(train)"
   ]
  },
  {
   "cell_type": "code",
   "execution_count": null,
   "metadata": {},
   "outputs": [],
   "source": [
    "next(iter(train))"
   ]
  },
  {
   "cell_type": "code",
   "execution_count": 4,
   "metadata": {},
   "outputs": [],
   "source": [
    "tokenizer = AutoTokenizer.from_pretrained(\"bert-base-uncased\")"
   ]
  },
  {
   "cell_type": "code",
   "execution_count": 5,
   "metadata": {},
   "outputs": [
    {
     "data": {
      "application/vnd.jupyter.widget-view+json": {
       "model_id": "173ec853103140fbb58367838df8441b",
       "version_major": 2,
       "version_minor": 0
      },
      "text/plain": [
       "  0%|          | 0/65 [00:00<?, ?ba/s]"
      ]
     },
     "metadata": {},
     "output_type": "display_data"
    }
   ],
   "source": [
    "tokenized_train = train.map(lambda x: tokenizer(x[\"text\"], padding=True, truncation=True, max_length=128), batched=True)"
   ]
  },
  {
   "cell_type": "code",
   "execution_count": null,
   "metadata": {},
   "outputs": [],
   "source": [
    "tokenized_train.save_to_disk(\"en_wikipedia_1p\")"
   ]
  },
  {
   "cell_type": "code",
   "execution_count": null,
   "metadata": {},
   "outputs": [],
   "source": [
    "# tokenized_train = train.map(lambda x: tokenizer(x[\"text\"], padding=True, truncation=True, max_length=128))\n",
    "# tokenized_dev = dev.map(lambda x: tokenizer(x[\"text\"], padding=True, truncation=True, max_length=128))\n",
    "# tokenized_test = test.map(lambda x: tokenizer(x[\"text\"], padding=True, truncation=True, max_length=128))"
   ]
  },
  {
   "cell_type": "code",
   "execution_count": null,
   "metadata": {},
   "outputs": [],
   "source": [
    "# encodings = tokenizer.batch_encode_plus(dev[\"text\"], padding=True, truncation=True, return_tensors=\"pt\", max_length=128)"
   ]
  },
  {
   "cell_type": "code",
   "execution_count": null,
   "metadata": {},
   "outputs": [],
   "source": [
    "# class TokenizedDataset(Dataset):\n",
    "\n",
    "#     def __init__(self, tokenizer, text_dataset):\n",
    "#         self.text_dataset = text_dataset\n",
    "#         self.tokenizer = tokenizer\n",
    "#         self.tokenized_dataset = self.text_dataset.map(lambda x: self.tokenizer.encode_plus(x[\"text\"], padding=True, truncation=True, return_tensors=\"pt\", max_length=128))\n",
    "    \n",
    "#     def __len__(self):\n",
    "#         return len(self.text_dataset)\n",
    "    \n",
    "#     def __getitem__(self, idx):\n",
    "#         return self.tokenized_dataset[idx]"
   ]
  },
  {
   "cell_type": "code",
   "execution_count": null,
   "metadata": {},
   "outputs": [],
   "source": [
    "train_loader = DataLoader(tokenized_train, batch_size=8, shuffle=True, num_workers=8)\n",
    "dev_loader = DataLoader(tokenized_dev, batch_size=8, shuffle=False, num_workers=8)\n",
    "test_loader = DataLoader(tokenized_test, batch_size=8, shuffle=False, num_workers=8)"
   ]
  },
  {
   "cell_type": "code",
   "execution_count": null,
   "metadata": {},
   "outputs": [],
   "source": [
    "\n",
    "for batch in tqdm(dev_loader):\n",
    "    str(batch)\n"
   ]
  }
 ],
 "metadata": {
  "interpreter": {
   "hash": "b79a7f5a46152e71cff8647b5c3b8d14e4a3aaa5c5e0a4b675db2944c297bd15"
  },
  "kernelspec": {
   "display_name": "Python 3.10.4 ('env': venv)",
   "language": "python",
   "name": "python3"
  },
  "language_info": {
   "codemirror_mode": {
    "name": "ipython",
    "version": 3
   },
   "file_extension": ".py",
   "mimetype": "text/x-python",
   "name": "python",
   "nbconvert_exporter": "python",
   "pygments_lexer": "ipython3",
   "version": "3.10.4"
  },
  "orig_nbformat": 4
 },
 "nbformat": 4,
 "nbformat_minor": 2
}
